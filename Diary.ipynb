{
 "cells": [
  {
   "cell_type": "code",
   "execution_count": null,
   "metadata": {
    "collapsed": true
   },
   "outputs": [],
   "source": [
    "import pandas as pd\n",
    "import numpy as np\n",
    "import jieba\n",
    "import re\n",
    "import collections\n",
    "import jieba.analyse\n",
    "import codecs\n",
    "import nltk\n",
    "import jieba.posseg as pseg\n",
    "from nltk.corpus import stopwords "
   ]
  },
  {
   "cell_type": "markdown",
   "metadata": {},
   "source": [
    "## Import Data"
   ]
  },
  {
   "cell_type": "code",
   "execution_count": null,
   "metadata": {
    "collapsed": true
   },
   "outputs": [],
   "source": [
    "path = pd.read_csv('diary_pick.txt' , sep='\\t',error_bad_lines=False).astype(str)\n",
    "path.head()"
   ]
  },
  {
   "cell_type": "markdown",
   "metadata": {},
   "source": [
    "## Jieba"
   ]
  },
  {
   "cell_type": "code",
   "execution_count": null,
   "metadata": {
    "collapsed": true
   },
   "outputs": [],
   "source": [
    "#斷詞存成文件\n",
    "wf = codecs.open(\"pick_seg.dataset\", \"w\",\"utf-8\")\n",
    "with open(\"diary_pick.txt\", \"r\") as f:\n",
    "    for line in f:\n",
    "        words = jieba.cut(line)\n",
    "        wf.write(\" \".join(words))\n",
    "        #print(\" \".join(words))\n",
    "wf.close()"
   ]
  },
  {
   "cell_type": "code",
   "execution_count": null,
   "metadata": {
    "collapsed": true
   },
   "outputs": [],
   "source": [
    "#看每篇週記的斷詞成果\n",
    "with open(\"pick_seg.dataset\") as fn:\n",
    "    for line in fn:\n",
    "        print(line)"
   ]
  },
  {
   "cell_type": "markdown",
   "metadata": {},
   "source": [
    "## world cloud"
   ]
  },
  {
   "cell_type": "code",
   "execution_count": null,
   "metadata": {
    "collapsed": true
   },
   "outputs": [],
   "source": [
    "#文字雲\n",
    "import matplotlib.pyplot as plt\n",
    "from wordcloud import WordCloud\n",
    "\n",
    "\n",
    "# 讀取檔案\n",
    "text = open(\"pick_seg.dataset\").read()\n",
    "# 建立停用字\n",
    "stopwords = {}.fromkeys([\"分行\",\"顧客\",\"本行\"]) #簡單列3個\n",
    "\n",
    "wc = WordCloud(font_path=\"NotoSerifCJKtc-Black.otf\", #設置字體(需使用可讀中文的字體)\n",
    "               background_color=\"white\", #背景顏色\n",
    "               max_words = 100 , #文字雲顯示最大詞數\n",
    "               stopwords=stopwords) #停用字詞\n",
    "\n",
    "# 產生文字雲\n",
    "wc.generate(text)\n",
    "\n",
    "# 視覺化\n",
    "plt.imshow(wc)\n",
    "plt.axis(\"off\")\n",
    "plt.figure(figsize=(10,6), dpi = 100)\n",
    "plt.show()\n",
    "\n"
   ]
  },
  {
   "cell_type": "markdown",
   "metadata": {},
   "source": [
    "### 主題建模"
   ]
  },
  {
   "cell_type": "code",
   "execution_count": null,
   "metadata": {
    "collapsed": true
   },
   "outputs": [],
   "source": [
    "import logging\n",
    "logging.basicConfig(format='%(asctime)s : %(levelname)s : %(message)s', level=logging.INFO)\n",
    "import os\n",
    "from gensim import corpora, models, similarities"
   ]
  },
  {
   "cell_type": "code",
   "execution_count": null,
   "metadata": {
    "collapsed": true
   },
   "outputs": [],
   "source": [
    "# 移除停用字\n",
    "with open(\"stopWords.txt\") as f:\n",
    "    stop_word_content = f.readlines()\n",
    "stop_word_content = [x.strip() for x in stop_word_content] #strip: 移除頭尾空格\n",
    "stop_word_content = \" \".join(stop_word_content)\n",
    "\n",
    "# 建立本次文檔的語料庫(字典)\n",
    "# 將文檔裡的詞給編號\n",
    "dictionary = corpora.Dictionary(document.split() for document in open(\"pick_seg.dataset\"))\n",
    "stoplist = set(stop_word_content.split())\n",
    "stop_ids = [dictionary.token2id[stopword] for stopword in stoplist\n",
    "            if stopword in dictionary.token2id] #dictionary.token2id: 代表什麼字詞對應到什麼id，有幾個id就代表有幾維向量空間\n",
    "dictionary.filter_tokens(stop_ids) # 移除停用字\n",
    "dictionary.compactify() #remove faps in id sequence after worfs that were removed\n",
    "dictionary.save(\"RM_diary.dict\")"
   ]
  },
  {
   "cell_type": "code",
   "execution_count": null,
   "metadata": {
    "collapsed": true
   },
   "outputs": [],
   "source": [
    "# check每個詞的id\n",
    "for word,index in dictionary.token2id.items(): \n",
    "    print(word +\" id:\"+ str(index))"
   ]
  },
  {
   "cell_type": "code",
   "execution_count": null,
   "metadata": {
    "collapsed": true
   },
   "outputs": [],
   "source": [
    "texts = [[word for word in document.split() if word not in stoplist]\n",
    "         for document in open(\"pick_seg.dataset\")]\n",
    "\n",
    "# 移除只出現一次的字詞\n",
    "from collections import defaultdict\n",
    "frequency = defaultdict(int)\n",
    "for text in texts:\n",
    "     for token in text:\n",
    "         frequency[token] += 1\n",
    "\n",
    "texts = [[token for token in text if frequency[token] > 1] \n",
    "          for text in texts]\n",
    "#---------------------------------------------------------------\n",
    "#把字典轉成向量空間模式\n",
    "# 將 corpus 序列化\n",
    "corpus = [dictionary.doc2bow(text) for text in texts]\n",
    "corpora.MmCorpus.serialize(\"diary_pick.mm\", corpus) # Corpus in Matrix Market format "
   ]
  },
  {
   "cell_type": "code",
   "execution_count": null,
   "metadata": {
    "collapsed": true
   },
   "outputs": [],
   "source": [
    "#將 corpus 丟入tf-idf 模型 ：將字典中的字詞向量轉換為字詞重要性的向量\n",
    "# 載入語料庫\n",
    "if (os.path.exists(\"RM_diary.dict\")):\n",
    "    dictionary = corpora.Dictionary.load(\"RM_diary.dict\")\n",
    "    corpus = corpora.MmCorpus(\"diary_pick.mm\") # 將數據流的語料變為內容流的語料\n",
    "    print(\"Used files generated from first tutorial\")\n",
    "else:\n",
    "    print(\"Please run first tutorial to generate data set\")"
   ]
  },
  {
   "cell_type": "code",
   "execution_count": null,
   "metadata": {
    "collapsed": true
   },
   "outputs": [],
   "source": [
    "# 創 tfidf model\n",
    "tfidf = models.TfidfModel(corpus)\n",
    "# 轉為向量表示\n",
    "corpus_tfidf = tfidf[corpus]"
   ]
  },
  {
   "cell_type": "code",
   "execution_count": null,
   "metadata": {
    "collapsed": true
   },
   "outputs": [],
   "source": [
    "# 創建 LSI model\n",
    "lsi = models.LsiModel(corpus_tfidf, id2word=dictionary, num_topics=10)\n",
    "corpus_lsi = lsi[corpus_tfidf] # LSI潛在語義索引\n",
    "lsi.save('rm_diary.lsi')\n",
    "corpora.MmCorpus.serialize('lsi_rm_diary.mm', corpus_lsi)\n",
    "print(\"LSI topics:\")\n",
    "lsi.print_topics(3)\n",
    "\n",
    "#會看到每篇週記在每個主題的權重，這裏主題設定為10"
   ]
  },
  {
   "cell_type": "code",
   "execution_count": null,
   "metadata": {
    "collapsed": true
   },
   "outputs": [],
   "source": [
    "# 建立索引\n",
    "index = similarities.MatrixSimilarity(lsi[corpus]) \n",
    "index.save(\"rm_diary.index\") \n",
    "\n",
    "# 計算相似度（前五名）\n",
    "sims = index[vec_lsi] \n",
    "sims = sorted(enumerate(sims), key=lambda item: -item[1])\n",
    "print(sims[:5])"
   ]
  },
  {
   "cell_type": "code",
   "execution_count": null,
   "metadata": {
    "collapsed": true
   },
   "outputs": [],
   "source": []
  },
  {
   "cell_type": "code",
   "execution_count": null,
   "metadata": {
    "collapsed": true
   },
   "outputs": [],
   "source": []
  },
  {
   "cell_type": "code",
   "execution_count": null,
   "metadata": {
    "collapsed": true
   },
   "outputs": [],
   "source": []
  },
  {
   "cell_type": "code",
   "execution_count": null,
   "metadata": {
    "collapsed": true
   },
   "outputs": [],
   "source": []
  },
  {
   "cell_type": "code",
   "execution_count": null,
   "metadata": {
    "collapsed": true
   },
   "outputs": [],
   "source": []
  }
 ],
 "metadata": {
  "kernelspec": {
   "display_name": "Python 2",
   "language": "python",
   "name": "python2"
  },
  "language_info": {
   "codemirror_mode": {
    "name": "ipython",
    "version": 2
   },
   "file_extension": ".py",
   "mimetype": "text/x-python",
   "name": "python",
   "nbconvert_exporter": "python",
   "pygments_lexer": "ipython2",
   "version": "2.7.13"
  }
 },
 "nbformat": 4,
 "nbformat_minor": 2
}
